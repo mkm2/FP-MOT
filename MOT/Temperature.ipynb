{
 "cells": [
  {
   "cell_type": "code",
   "execution_count": 83,
   "metadata": {},
   "outputs": [],
   "source": [
    "# -*- coding: utf-8 -*-\n",
    "import matplotlib.pyplot as plt\n",
    "import numpy as np\n",
    "import pandas as pd\n",
    "from pathlib import Path\n",
    "from scipy import special\n",
    "from scipy.optimize import curve_fit\n",
    "from scipy import special"
   ]
  },
  {
   "cell_type": "code",
   "execution_count": 2,
   "metadata": {},
   "outputs": [],
   "source": [
    "path = Path.cwd()\n",
    "date = \"2022-02-22\"\n",
    "datapath = path / (date+'_TK-data')\n",
    "outputpath = path / 'results'"
   ]
  },
  {
   "cell_type": "code",
   "execution_count": 3,
   "metadata": {},
   "outputs": [],
   "source": [
    "u = 1.6605 * 1e-27\n",
    "m85 = 84.91 * u\t\n",
    "m87 = 86.91 * u\t \n",
    "kB = 1.380649 * 1e-23"
   ]
  },
  {
   "cell_type": "code",
   "execution_count": 4,
   "metadata": {},
   "outputs": [],
   "source": [
    "def calc_N(V):\n",
    "    c = 299792458\n",
    "    h = 6.62607015 *1e-34\n",
    "\n",
    "    SF = 10 * 1e6/(10*1e6+50) #scale factor\n",
    "    TG = 2.38 * 1e6 #V/A #Transimpedance gain\n",
    "    TG_err = 0.05 * TG #5% error\n",
    "    R = 0.48 #Wellenlänge lambda = 780 nm\n",
    "    R_err = 0.01\n",
    "\n",
    "    Delta = 10 * 1e6 #10 MHz detuning\n",
    "    Gamma0 = 2*np.pi*6.07 *1e6 #2pi * 6.07 MHz natural line width\n",
    "    Isat = 4.1 *1e-3*1e4 # 4.1 mW/cm^2\n",
    "    P_pm = 15 * 1e-3 # P_Powermeter = 5 +/- 0.1 mW je Richtung\n",
    "    P_pm_err = np.sqrt(3)*0.1*1e-3 #siehe oben\n",
    "    w = 2*1e-3 #waist 2 mmm\n",
    "    I0 = 2*P_pm/(np.pi*w**2) #Ir \\approx I0 Ist das richtig so? oder Faktor 3 daneben?\n",
    "    I0_err = 2*P_pm_err/(np.pi*w**2)\n",
    "\n",
    "    theta = (25.4)**2/(4*(150)**2) #according to Praktikumsanleitung\n",
    "    E = h*c/(780.241*1e-9) #5S1/2 -> 5P3/2 Übergang aprrox 780.241 nm\n",
    "\n",
    "    Pmeas = V /(R * TG * SF)\n",
    "    Pmeas_err = np.sqrt((V*R_err/(R**2*TG*SF))**2+(V*TG_err/(R*TG**2*SF))**2)\n",
    "    Gamma_sc = Gamma0/2 * I0/Isat /(1+I0/Isat+4*Delta**2/Gamma0**2)\n",
    "    Gamma_sc_err = Gamma0/(2*Isat) * (1+4*Delta**2/Gamma0**2)/(1+I0/Isat*4*Delta**2/Gamma0**2) * I0_err\n",
    "    Na = Pmeas/(theta*Gamma_sc*E)\n",
    "    Na_err = np.sqrt((Pmeas_err/(theta*Gamma_sc*E))**2+(Pmeas*Gamma_sc_err/(theta*Gamma_sc**2*E))**2)\n",
    "\n",
    "    return Na,Na_err"
   ]
  },
  {
   "cell_type": "code",
   "execution_count": 72,
   "metadata": {},
   "outputs": [],
   "source": [
    "def extract_ratio(data,inputsignal,lenghtl,lengthr,bgmean,bgstd):\n",
    "    diff = np.array([abs(inputsignal[i+1]-inputsignal[i]) for i in range(0,inputsignal.shape[0]-1)])\n",
    "    diff = np.concatenate((diff,[False]))\n",
    "    start = data.index[diff > 1][-2]\n",
    "    stop = data.index[diff > 1][-1]\n",
    "\n",
    "    N0 = np.mean(data[start-lenghtl:start])-bgmean\n",
    "    N1 = np.mean(data[stop:stop+lengthr+1])-bgmean\n",
    "\n",
    "    N0_err = np.sqrt((1/np.sqrt(lenghtl)*np.std(data[start-lenghtl:start]))**2+bgstd**2)\n",
    "    N1_err = np.sqrt((1/np.sqrt(lengthr)*np.std(data[stop:stop+lengthr+1]))**2+bgstd**2)\n",
    "\n",
    "    ratio = N1/N0\n",
    "    ratio_err = np.sqrt((N1_err/N0)**2+(N1/N0**2*N0_err)**2)\n",
    "\n",
    "    return ratio, ratio_err\n",
    "    "
   ]
  },
  {
   "cell_type": "code",
   "execution_count": 6,
   "metadata": {},
   "outputs": [
    {
     "name": "stdout",
     "output_type": "stream",
     "text": [
      "910613.5520501804 45115.57820629076\n"
     ]
    }
   ],
   "source": [
    "data = pd.read_csv(datapath/(date+\"_CAR_background.csv\"),header=2,skiprows=[8],sep=';')\n",
    "Nbg = calc_N(data['HS3-100(17654).Ch2'])[0]\n",
    "bgmean = np.mean(Nbg)\n",
    "bgstd = np.std(Nbg)\n",
    "print(bgmean, bgstd)"
   ]
  },
  {
   "cell_type": "code",
   "execution_count": 7,
   "metadata": {},
   "outputs": [],
   "source": [
    "length = 10"
   ]
  },
  {
   "cell_type": "code",
   "execution_count": 134,
   "metadata": {},
   "outputs": [],
   "source": [
    "def fit_function(t,T):\n",
    "    R = 1.5*1e-3 #1.5 mm\n",
    "    chi = np.sqrt(m85/(kB*T))*R/t\n",
    "    return special.erf(chi) - 2/np.sqrt(np.pi) * chi * np.exp(-chi**2) "
   ]
  },
  {
   "cell_type": "code",
   "execution_count": 135,
   "metadata": {},
   "outputs": [],
   "source": [
    "fileidx = np.array([5,10,15,18,20,22,25,30,35,40,43,45,48,50,53,55,58,60,63,65,68,70,73,75,80,85,90,100,150,200,250,300])\n",
    "\n",
    "ratios = np.zeros(len(fileidx))\n",
    "ratios_err = np.zeros(len(fileidx))\n",
    "for i,fi in enumerate(fileidx):\n",
    "    data = pd.read_csv(datapath/(date+\"_CAR_{}.csv\".format(fi)),header=2,skiprows=[8],sep=';')\n",
    "    Na = calc_N(data['HS3-100(17654).Ch2'])[0]\n",
    "    ratios[i],ratios_err[i] = extract_ratio(Na,data['HS3-100(17654).Ch1'],100,10,bgmean,bgstd)"
   ]
  },
  {
   "cell_type": "code",
   "execution_count": 140,
   "metadata": {},
   "outputs": [
    {
     "name": "stderr",
     "output_type": "stream",
     "text": [
      "/tmp/ipykernel_25471/2569504482.py:3: RuntimeWarning: invalid value encountered in sqrt\n",
      "  chi = np.sqrt(m85/(kB*T))*R/t\n"
     ]
    },
    {
     "data": {
      "image/png": "[encoded data removed]",
      "text/plain": [
       "<Figure size 432x288 with 1 Axes>"
      ]
     },
     "metadata": {
      "needs_background": "light"
     },
     "output_type": "display_data"
    },
    {
     "name": "stdout",
     "output_type": "stream",
     "text": [
      "T = 174.31+/-11.44 μK\n"
     ]
    }
   ],
   "source": [
    "times = fileidx * 1e-3\n",
    "popt, pcov = curve_fit(fit_function,times,ratios,sigma=ratios_err)\n",
    "perr = np.sqrt(np.diag(pcov))\n",
    "plt.errorbar(times,ratios,ratios_err,marker='+',ls='None')\n",
    "plt.plot(times,fit_function(times,*popt))\n",
    "plt.xlabel('Down time /s')\n",
    "plt.ylabel('N/N0')\n",
    "plt.show()\n",
    "print(\"T = {:.2f}+/-{:.2f} μK\".format(popt[0]/1e-6,perr[0]/1e-6))"
   ]
  },
  {
   "cell_type": "code",
   "execution_count": null,
   "metadata": {},
   "outputs": [],
   "source": []
  }
 ],
 "metadata": {
  "interpreter": {
   "hash": "5b5ed843b087df19573f1d14f5506f035259c2d1b2fd60bc125f53e29efeb7b3"
  },
  "kernelspec": {
   "display_name": "",
   "language": "python",
   "name": "python3"
  },
  "language_info": {
   "codemirror_mode": {
    "name": "ipython",
    "version": 3
   },
   "file_extension": ".py",
   "mimetype": "text/x-python",
   "name": "python",
   "nbconvert_exporter": "python",
   "pygments_lexer": "ipython3",
   "version": "3.8.10"
  },
  "orig_nbformat": 4
 },
 "nbformat": 4,
 "nbformat_minor": 2
}
